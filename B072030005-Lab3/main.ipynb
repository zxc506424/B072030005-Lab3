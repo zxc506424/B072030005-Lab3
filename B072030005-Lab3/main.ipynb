{
 "cells": [
  {
   "cell_type": "code",
   "execution_count": 1,
   "metadata": {
    "scrolled": false
   },
   "outputs": [
    {
     "name": "stdout",
     "output_type": "stream",
     "text": [
      "pygame 2.0.1 (SDL 2.0.14, Python 3.8.5)\n",
      "Hello from the pygame community. https://www.pygame.org/contribute.html\n"
     ]
    }
   ],
   "source": [
    "import pygame\n",
    "from enemy import EnemyGroup\n",
    "import os\n",
    "from settings import WIN_WIDTH, WIN_HEIGHT, FPS\n",
    "import time\n",
    "\n",
    "# initialization\n",
    "pygame.init()\n",
    "# load image\n",
    "BACKGROUND_IMAGE = pygame.image.load(os.path.join(\"images\", \"Map.png\"))\n",
    "HP_IMAGE = pygame.image.load(os.path.join(\"images\", \"hp.png\"))\n",
    "HP_GRAY_IMAGE = pygame.image.load(os.path.join(\"images\", \"hp_gray.png\"))\n",
    "# set the title and icon\n",
    "pygame.display.set_caption(\"My TD game\")\n",
    "\n",
    "\n",
    "class Game:\n",
    "    def __init__(self):\n",
    "        self.win = pygame.display.set_mode((WIN_WIDTH, WIN_HEIGHT))\n",
    "        self.bg_image = pygame.transform.scale(BACKGROUND_IMAGE, (WIN_WIDTH, WIN_HEIGHT))\n",
    "        self.hp_images = [pygame.transform.scale(HP_IMAGE, (40, 40)),\n",
    "                          pygame.transform.scale(HP_GRAY_IMAGE, (40, 40))]\n",
    "        self.enemies = EnemyGroup()\n",
    "        self.base = pygame.Rect(430, 90, 195, 130)\n",
    "        self.mode_control = 0\n",
    "\n",
    "    def collide_base(self, enemy):\n",
    "        \"\"\"\n",
    "        Return True if the enemy collide with base.\n",
    "        :param enemy: object (Enemy())\n",
    "        :return: Bool\n",
    "        \"\"\"\n",
    "        x, y = self.base.center\n",
    "        width, height = self.base.w, self.base.h\n",
    "        if x - width // 2 < enemy.x < x + width // 2 and y - height // 2 < enemy.y < y + height // 2:\n",
    "            return True\n",
    "        return False\n",
    "\n",
    "    def draw(self):\n",
    "        \"\"\"\n",
    "        Draw everything in this method.\n",
    "        :return: None\n",
    "        \"\"\"\n",
    "        # draw background\n",
    "        self.win.blit(self.bg_image, (0, 0))\n",
    "        # draw enemy\n",
    "        for i,en in enumerate(self.enemies.get()):\n",
    "            en.draw(self.win)\n",
    "\n",
    "    def game_run(self):\n",
    "        # game loop\n",
    "        run = True\n",
    "        clock = pygame.time.Clock()\n",
    "        while run:\n",
    "            clock.tick(FPS)\n",
    "            # event loop\n",
    "            for event in pygame.event.get():\n",
    "                # quit the game\n",
    "                if event.type == pygame.QUIT:\n",
    "                    run = False\n",
    "                # generate enemy of the next wave\n",
    "                if event.type == pygame.KEYDOWN:\n",
    "                    if event.key == pygame.K_n and self.enemies.is_empty():\n",
    "                        self.enemies.generate(3,self.mode_control%2)\n",
    "                        self.mode_control +=1\n",
    "\n",
    "             # enemy loop\n",
    "            self.enemies.campaign()\n",
    "            for i,en in enumerate(self.enemies.get()):\n",
    "                #print(i,en.x,en.y)\n",
    "                en.move()\n",
    "                # delete the object when it reach the base\n",
    "                if self.collide_base(en):\n",
    "                    self.enemies.retreat(en)\n",
    "\n",
    "            # draw everything\n",
    "            self.draw()\n",
    "            pygame.display.update()\n",
    "        pygame.quit()\n",
    "\n",
    "\n",
    "if __name__ == '__main__':\n",
    "    covid_game = Game()\n",
    "    covid_game.game_run()"
   ]
  },
  {
   "cell_type": "code",
   "execution_count": 2,
   "metadata": {},
   "outputs": [],
   "source": [
    "covid_game = Game()"
   ]
  },
  {
   "cell_type": "code",
   "execution_count": null,
   "metadata": {},
   "outputs": [],
   "source": [
    "from settings import PATH2"
   ]
  },
  {
   "cell_type": "code",
   "execution_count": null,
   "metadata": {},
   "outputs": [],
   "source": [
    "covid_game.win"
   ]
  },
  {
   "cell_type": "code",
   "execution_count": null,
   "metadata": {},
   "outputs": [],
   "source": [
    "a,b = PATH[0]"
   ]
  },
  {
   "cell_type": "code",
   "execution_count": null,
   "metadata": {},
   "outputs": [],
   "source": [
    "False if [] else True\n"
   ]
  },
  {
   "cell_type": "code",
   "execution_count": null,
   "metadata": {},
   "outputs": [],
   "source": [
    "for i,j in enumerate([4,5,6]):\n",
    "    print(i,j)"
   ]
  }
 ],
 "metadata": {
  "kernelspec": {
   "display_name": "Python 3",
   "language": "python",
   "name": "python3"
  },
  "language_info": {
   "codemirror_mode": {
    "name": "ipython",
    "version": 3
   },
   "file_extension": ".py",
   "mimetype": "text/x-python",
   "name": "python",
   "nbconvert_exporter": "python",
   "pygments_lexer": "ipython3",
   "version": "3.8.5"
  }
 },
 "nbformat": 4,
 "nbformat_minor": 4
}
